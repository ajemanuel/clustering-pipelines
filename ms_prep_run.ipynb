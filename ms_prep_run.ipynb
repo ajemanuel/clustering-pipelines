{
 "cells": [
  {
   "cell_type": "code",
   "execution_count": 1,
   "metadata": {
    "collapsed": true
   },
   "outputs": [],
   "source": [
    "## Specify parameters and paths\n",
    "\n",
    "dataPath = 'Z:/HarveyLab/Alan/Data/20171002/p3'\n",
    "prb = 'poly2' # 'poly2' is shorthand for A1x32-poly2-5mm-...etc\n",
    "UbuntuShareBase = 'C://Users/Alan/Desktop/UbuntuShare/'\n",
    "clusteringPath = 'C://Users/Alan/Documents/Github/clustering-pipelines'\n",
    "ms4Path = 'C:\\\\Users\\\\Alan\\\\Documents\\\\GitHub\\\\mountainlab\\\\packages\\\\mlpy\\\\mda'"
   ]
  },
  {
   "cell_type": "code",
   "execution_count": 2,
   "metadata": {
    "collapsed": false
   },
   "outputs": [],
   "source": [
    "import os\n",
    "os.chdir(dataPath)\n",
    "import sys\n",
    "sys.path.append(clusteringPath)\n",
    "import read_rhd as rhd\n",
    "import numpy as np\n",
    "import glob\n",
    "import matplotlib.pyplot as plt\n",
    "from shutil import copy2\n",
    "import datetime\n",
    "import subprocess\n",
    "%matplotlib inline\n",
    "## import tool to read mda files; mlpy is available on the ms4 github branch (https://github.com/magland/mountainlab/tree/ms4)\n",
    "sys.path.append(ms4Path)\n",
    "import mdaio"
   ]
  },
  {
   "cell_type": "code",
   "execution_count": 4,
   "metadata": {
    "collapsed": false
   },
   "outputs": [
    {
     "name": "stdout",
     "output_type": "stream",
     "text": [
      "Sorted Files:\n",
      "gridIndent_171002_180119.rhd\n",
      "gridIndent_171002_180134.rhd\n",
      "gridIndent_171002_180149.rhd\n",
      "gridIndent_171002_180204.rhd\n",
      "gridIndent_171002_180219.rhd\n",
      "gridIndent_171002_180234.rhd\n",
      "gridIndent_171002_180249.rhd\n",
      "gridIndent_171002_180305.rhd\n",
      "gridIndent_171002_180321.rhd\n",
      "gridIndent_171002_180336.rhd\n",
      "gridIndent_171002_180351.rhd\n",
      "gridIndent_171002_180406.rhd\n",
      "gridIndent_171002_180421.rhd\n",
      "gridIndent_171002_180436.rhd\n",
      "gridIndent_171002_180451.rhd\n",
      "gridIndent_171002_180506.rhd\n",
      "gridIndent_171002_180521.rhd\n",
      "gridIndent_171002_180537.rhd\n",
      "gridIndent_171002_180552.rhd\n",
      "gridIndent_171002_180607.rhd\n",
      "gridIndent_171002_180622.rhd\n",
      "gridIndent_171002_180637.rhd\n",
      "gridIndent_171002_180652.rhd\n",
      "gridIndent_171002_180707.rhd\n",
      "gridIndent_171002_180722.rhd\n",
      "gridIndent_171002_180738.rhd\n",
      "gridIndent_171002_180753.rhd\n",
      "p3 is basename\n",
      "27 files\n"
     ]
    }
   ],
   "source": [
    "files = glob.glob('*.rhd')\n",
    "#for x in files:\n",
    "#    print(x)\n",
    "files.sort(key=os.path.getmtime)  ## WARNING: this sorting may be OS sensitive, could use (key=lambda files: files[-10:-4]) instead\n",
    "print('Sorted Files:')\n",
    "for x in files:\n",
    "    print(x)\n",
    "    \n",
    "basename = os.path.basename(dataPath) # taking foldername as basename\n",
    "print('{0} is basename'.format(basename))\n",
    "print('{0} files'.format(len(files)))"
   ]
  },
  {
   "cell_type": "code",
   "execution_count": null,
   "metadata": {
    "collapsed": false,
    "scrolled": true
   },
   "outputs": [],
   "source": [
    "#batch write .rhd to large raw.mda\n",
    "\n",
    "numFiles = len(files)\n",
    "\n",
    "for i, file in enumerate(files):\n",
    "    print('\\n\\n\\nExtracting file {0} of {1}\\n'.format(i, numFiles))\n",
    "    print(file)\n",
    "    d = rhd.read_rhd(file)\n",
    "    \n",
    "    \n",
    "    if i == 0:\n",
    "        recordings = d['amplifier_data']\n",
    "    else:\n",
    "        recordings = np.concatenate((recordings,d['amplifier_data']),axis=1)\n",
    "    \n",
    "    ##save digital input streams as individual files -- different recordings might have different #s of channels\n",
    "    for digitalChannel in range(d['board_dig_in_data'].shape[0]):\n",
    "        d['board_dig_in_data'][digitalChannel].tofile(os.path.splitext(file)[0] + 'chan' + str(digitalChannel) + '.di')\n",
    "    ##save analog input streams as individual files\n",
    "    for analogChannel in range(d['aux_input_data'].shape[0]):\n",
    "        d['aux_input_data'][analogChannel].tofile(os.path.splitext(file)[0] + 'chan' + str(analogChannel) + '.ai')\n",
    "\n",
    "\n",
    "if not os.path.exists(dataPath+'/alldata'):\n",
    "    os.mkdir(dataPath+'/alldata')\n",
    "mdaio.writemda16ui(recordings,dataPath+'/alldata/raw.mda')\n",
    "\n"
   ]
  },
  {
   "cell_type": "markdown",
   "metadata": {},
   "source": [
    "# concatenate raw.mda file to UbuntuShare for mountainsort"
   ]
  },
  {
   "cell_type": "code",
   "execution_count": 5,
   "metadata": {
    "collapsed": false,
    "scrolled": true
   },
   "outputs": [
    {
     "data": {
      "text/plain": [
       "'C://Users/Alan/Desktop/UbuntuShare/20171008/p3/raw.mda'"
      ]
     },
     "execution_count": 5,
     "metadata": {},
     "output_type": "execute_result"
    }
   ],
   "source": [
    "## Copy data to Ubuntu share\n",
    "\n",
    "dt = datetime.datetime.now()\n",
    "yearMonthDay = \tdt.strftime('%Y%m%d')  \n",
    "UbuntuSharePath = UbuntuShareBase+yearMonthDay+'/'+basename+'/'\n",
    "\n",
    "if not os.path.exists(UbuntuSharePath):\n",
    "    os.makedirs(UbuntuSharePath)\n",
    "copy2(dataPath+'/alldata/raw.mda',UbuntuSharePath) ## copies raw.mda to UbuntuShare folder"
   ]
  },
  {
   "cell_type": "code",
   "execution_count": 35,
   "metadata": {
    "collapsed": false
   },
   "outputs": [],
   "source": [
    "## define functions for writing and running shell script in Ubuntu virtualbox\n",
    "\n",
    "def writeUbuntuShell(UbuntuSharePath,basename, probe=None, num_channels=32):\n",
    "    '''\n",
    "    UbuntuSharePath is path of path that is shared with Ubuntu Virtualbox\n",
    "    basename is the string of the containing folder\n",
    "    probe is shorthand for a probe: 'poly2' for A1x32-Poly2-5mm-50s-177-A32\n",
    "    \n",
    "    Returns: string of Ubuntu location of shell\n",
    "    '''\n",
    "    oldpath = os.getcwd()\n",
    "    os.chdir(UbuntuSharePath)\n",
    "    if probe == 'poly2': # if A1x32-Poly2-5mm-50s-177-A32\n",
    "        copy2('C://Users/Alan/Documents/Github/clustering-pipelines/poly2Geom.csv',UbuntuSharePath)\n",
    "        num_channels=32\n",
    "    dt = datetime.datetime.now()\n",
    "    yearMonthDay =     dt.strftime('%Y%m%d')  \n",
    "    sortDir = '/home/alan/data/sortProjects/'+yearMonthDay\n",
    "    sortDirFull = sortDir+'/datasets/'+basename ## make folder for sortProject with folder name as current date and basename as dataset\n",
    "    rawMdaLoc = sortDirFull+'/raw.mda'\n",
    "\n",
    "    with open('datasets%s.txt' % (yearMonthDay) ,'w+') as datasetFile:\n",
    "        datasetFile.write(basename+' /datasets/'+basename+'\\n')\n",
    "    \n",
    "    with open('pipelines'+yearMonthDay+'.txt','w+') as pipelineFile:\n",
    "        pipelineFile.write('ms2alan ms2_alan.pipeline') # default mountainsort pipeline file\n",
    "    \n",
    "    with open('params%s.json' % (yearMonthDay) ,'w+') as paramFile:\n",
    "        if probe == None:\n",
    "            paramFile.write('{\"samplerate\":20000,\"sign\":-1}') # default sample rate is 20 kHz and usually see negative spikes\n",
    "        elif probe == 'poly2':\n",
    "            paramFile.write('{\"samplerate\":20000,\"sign\":-1,\"adjacency_radius\":100}')\n",
    "    with open('tempShell.sh', 'w+', newline='\\n') as shellfile: # newline=\\n necessary for linux\n",
    "        shellfile.write('#! /bin/bash -i\\n') # including the -i makes the script interative and this allows for use of default PATH on SSH\n",
    "        shellfile.write('mkdir -p '+sortDirFull+'\\n')\n",
    "        \n",
    "        ## convert .dat to .mda, create prv, and copy to datasets\n",
    "        shellfile.write('cd /media/sf_UbuntuShare/%s/%s\\n' % (yearMonthDay,basename)) #directory of shared folder in Ubuntu Virtualbox\n",
    "        #shellfile.write('/home/alan/mountainlab/bin/mdaconvert raw.dat raw.mda --dtype=uint16 --input_format=raw_timeseries --num_channels=%d\\n' % (num_channels)) # convert .dat to .mda\n",
    "        shellfile.write('/home/alan/mountainlab/bin/prv-create2 raw.mda\\n')\n",
    "        shellfile.write('cp /media/sf_UbuntuShare/%s/%s/raw.mda.prv %s\\n' % (yearMonthDay,basename,sortDirFull))\n",
    "        \n",
    "        ## copy params.json file to sortDirFull\n",
    "        \n",
    "        shellfile.write('cp params%s.json %s/params.json\\n' % (yearMonthDay,sortDirFull))\n",
    "        \n",
    "        if probe == 'poly2':\n",
    "            shellfile.write('cp poly2Geom.csv %s/geom.csv\\n' % (sortDirFull))\n",
    "\n",
    "        ## copy datasets.txt and pipelines.txt to sortDir\n",
    "        shellfile.write('cp datasets%s.txt %s/datasets.txt\\n' % (yearMonthDay,sortDir))\n",
    "        shellfile.write('cp pipelines%s.txt %s/pipelines.txt\\n' % (yearMonthDay,sortDir))\n",
    "        \n",
    "        ## move to sortDir and run sorting project\n",
    "        shellfile.write('cd %s\\n' % (sortDir))\n",
    "        shellfile.write('/home/alan/mountainlab/bin/kron-run ms2alan %s --_nodaemon\\n' % (basename))\n",
    "    os.chdir(oldpath)\n",
    "    return '/media/sf_UbuntuShare/%s/%s/tempShell.sh' % (yearMonthDay, basename)\n",
    "\n",
    "def runUbuntuShell(UbuntuShell):\n",
    "    '''\n",
    "    UbuntuShell is str with linux style directory of shell file\n",
    "        this directory is returned from the writeUbuntuShell function\n",
    "    For alan, that is something like /media/sf_UbuntuShare/DATE/DATABASE/shelltorun.sh\n",
    "    '''\n",
    "    with open('ubuntuRun.bat','w+') as file:\n",
    "        ## change directory to that with share folder\n",
    "        pathToVBOXmanage = '\"C:/Program Files/Oracle/VirtualBox/VBoxManage.exe\"'\n",
    "        file.write('title run ubuntu shell\\n')\n",
    "        \n",
    "        #####\n",
    "        ## I've commented out the following bit of code because I set my vbox to always start upon login to Windows\n",
    "        ## see https://hellojason.net/blog/automatically-launch-a-headless-virtualbox-vm-at-bootup/\n",
    "        ## You can uncomment to auto startup your virtualbox\n",
    "        ####\n",
    "        \n",
    "        ## start virtual box\n",
    "        #file.write('call %s startvm \"Ubuntu\"\\n' %(pathToVBOXmanage))\n",
    "        ## i set up the virtualbox to set the RDONLYHOST property on setup\n",
    "        ## this wait command waits for that property to change before proceeding\n",
    "        #file.write('call %s guestproperty wait \"Ubuntu\" RDONLYHOST\\n' %(pathToVBOXmanage))\n",
    "        \n",
    "        \n",
    "        ## executes the script UbuntuShell\n",
    "        file.write('call %s guestcontrol \"Ubuntu\" run --username alan --password 123ubuntubox --exe %s -- --text\\n' % (pathToVBOXmanage, UbuntuShell))\n",
    "        \n",
    "    p = subprocess.Popen('ubuntuRun.bat',shell=True) #run the BAT file.\n",
    "    stdout, stderr = p.communicate()\n",
    "    # in jupyter, the stdout appears in the cmd window rather than the browser\n",
    "    return stdout, stderr"
   ]
  },
  {
   "cell_type": "code",
   "execution_count": 36,
   "metadata": {
    "collapsed": false
   },
   "outputs": [],
   "source": [
    "ubuntuLocation = writeUbuntuShell(UbuntuSharePath,basename,probe=prb)"
   ]
  },
  {
   "cell_type": "code",
   "execution_count": 37,
   "metadata": {
    "collapsed": false
   },
   "outputs": [],
   "source": [
    "stdout, stderr = runUbuntuShell(ubuntuLocation)"
   ]
  }
 ],
 "metadata": {
  "kernelspec": {
   "display_name": "Python 3",
   "language": "python",
   "name": "python3"
  },
  "language_info": {
   "codemirror_mode": {
    "name": "ipython",
    "version": 3
   },
   "file_extension": ".py",
   "mimetype": "text/x-python",
   "name": "python",
   "nbconvert_exporter": "python",
   "pygments_lexer": "ipython3",
   "version": "3.6.0"
  }
 },
 "nbformat": 4,
 "nbformat_minor": 2
}
