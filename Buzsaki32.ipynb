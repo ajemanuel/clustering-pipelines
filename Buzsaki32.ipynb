{
 "cells": [
  {
   "cell_type": "code",
   "execution_count": 4,
   "metadata": {
    "collapsed": true
   },
   "outputs": [],
   "source": [
    "%matplotlib inline\n",
    "\n",
    "import matplotlib\n",
    "import matplotlib.pyplot as plt\n",
    "import numpy as np"
   ]
  },
  {
   "cell_type": "code",
   "execution_count": 5,
   "metadata": {
    "collapsed": true
   },
   "outputs": [],
   "source": [
    "def translate_adjacencies(adjacencies, correspondence=None):\n",
    "    translated_adjacencies = adjacencies[:]\n",
    "    if correspondence is not None:\n",
    "        for i,(x,y) in enumerate(adjacencies):\n",
    "            translated_adjacencies[i] = (translate(x, correspondence), translate(y,correspondence))\n",
    "    return translated_adjacencies\n",
    "\n",
    "def translate_channels(channel_list, correspondence=None):\n",
    "    translated_channels = channel_list[:]\n",
    "    if correspondence is not None:\n",
    "        for i, x in enumerate(channel_list):\n",
    "            translated_channels[i] = translate(x,correspondence)\n",
    "    return translated_channels\n",
    "\n",
    "def translate(val, correspondence):\n",
    "    return correspondence[[x for (x,y) in correspondence].index(val)][1]"
   ]
  },
  {
   "cell_type": "code",
   "execution_count": 6,
   "metadata": {
    "collapsed": true
   },
   "outputs": [],
   "source": [
    "#produces pairs of probe site adjacencies from the electrode coordinates in physical space through Delauney tesselation,\n",
    "#subject to a maximum site spacing (in microns) of max_edgelength. \n",
    "import numpy as np\n",
    "import scipy.spatial as spatial\n",
    "\n",
    "def adjacency_from_geometry(coords, channels, max_edgelength = 40, correspondence = None):\n",
    "        \n",
    "    c = np.array(coords)\n",
    "    tess = spatial.Delaunay(coords)\n",
    "    indices, indptr = tess.vertex_neighbor_vertices\n",
    "    adjs = []\n",
    "    for k in range(indices.shape[0]-1):\n",
    "        for j in indptr[indices[k]:indices[k+1]]:\n",
    "            try:\n",
    "                if(spatial.distance.euclidean(c[k], c[j]) < max_edgelength):\n",
    "                    adjs.append((channels[k],channels[j]))\n",
    "            except:\n",
    "                pass\n",
    "    return adjs"
   ]
  },
  {
   "cell_type": "code",
   "execution_count": 8,
   "metadata": {},
   "outputs": [],
   "source": [
    "intan = ['G', 23, 22, 21, 20, 19, 18, 17, 16, 15, 14, 13, 12, 11, 10, 9, 8, 'R', 'R',24, 25, 26,\n",
    "         27, 28, 29, 30, 31, 0, 1, 2, 3, 4, 5, 6, 7, 'G']\n",
    "\n",
    "nexus = ['G',23,25,27,29,31,19,17,21,11,15,13,1,3,5,7,9,'R','R',24,26,28,30,32,20,18,22,12,16,14,2,4,6,\n",
    "         8,10,'G']\n",
    "\n",
    "cor = list(zip(nexus, intan))"
   ]
  },
  {
   "cell_type": "code",
   "execution_count": 9,
   "metadata": {},
   "outputs": [],
   "source": [
    "Buzsaki_shank1 = (\n",
    "(0,0),\n",
    "(-8.5, 20),\n",
    "(8.5, 40),\n",
    "(-10.5, 60),\n",
    "(12.5, 80),\n",
    "(-14.5, 100),\n",
    "(16.5, 120),\n",
    "(-18.5, 140)\n",
    ")\n",
    "shank1_channels = [5, 4, 6, 3, 7, 2, 8, 1]\n",
    "\n",
    "Buzsaki_shank2 = [(x+200, y) for (x, y) in Buzsaki_shank1]\n",
    "shank2_channels = [i + 8 for i in shank1_channels]\n",
    "\n",
    "Buzsaki_shank3 = [(x+400, y) for (x, y) in Buzsaki_shank1]\n",
    "shank3_channels = [i + (2*8) for i in shank1_channels]\n",
    "\n",
    "Buzsaki_shank4 = [(x+600, y) for (x, y) in Buzsaki_shank1]\n",
    "shank4_channels = [i + (3*8) for i in shank1_channels]"
   ]
  },
  {
   "cell_type": "code",
   "execution_count": 10,
   "metadata": {},
   "outputs": [
    {
     "data": {
      "text/plain": [
       "(-50.25, 648.25)"
      ]
     },
     "execution_count": 10,
     "metadata": {},
     "output_type": "execute_result"
    },
    {
     "data": {
      "image/png": "[encoded data removed]",
      "text/plain": [
       "<matplotlib.figure.Figure at 0x7ef7278>"
      ]
     },
     "metadata": {},
     "output_type": "display_data"
    }
   ],
   "source": [
    "plt.plot([x for (x,y) in Buzsaki_shank1],[y for (x,y) in Buzsaki_shank1],'.')\n",
    "plt.plot([x for (x,y) in Buzsaki_shank2],[y for (x,y) in Buzsaki_shank2],'.')\n",
    "plt.plot([x for (x,y) in Buzsaki_shank3],[y for (x,y) in Buzsaki_shank3],'.')\n",
    "plt.plot([x for (x,y) in Buzsaki_shank4],[y for (x,y) in Buzsaki_shank4],'.')\n",
    "plt.ylim(plt.xlim())"
   ]
  },
  {
   "cell_type": "code",
   "execution_count": 11,
   "metadata": {},
   "outputs": [],
   "source": [
    "geometry_shank1 = dict(zip(translate_channels(shank1_channels, cor), Buzsaki_shank1))\n",
    "geometry_shank2 = dict(zip(translate_channels(shank2_channels, cor), Buzsaki_shank2))\n",
    "geometry_shank3 = dict(zip(translate_channels(shank3_channels, cor), Buzsaki_shank3))\n",
    "geometry_shank4 = dict(zip(translate_channels(shank4_channels, cor), Buzsaki_shank4))"
   ]
  },
  {
   "cell_type": "code",
   "execution_count": 12,
   "metadata": {},
   "outputs": [],
   "source": [
    "a1 = adjacency_from_geometry(Buzsaki_shank1, shank1_channels, 50)\n",
    "a2 = adjacency_from_geometry(Buzsaki_shank2, shank2_channels, 50)\n",
    "a3 = adjacency_from_geometry(Buzsaki_shank3, shank3_channels, 50)\n",
    "a4 = adjacency_from_geometry(Buzsaki_shank4, shank4_channels, 50)"
   ]
  },
  {
   "cell_type": "code",
   "execution_count": 13,
   "metadata": {},
   "outputs": [],
   "source": [
    "b1 = translate_adjacencies(a1, cor)\n",
    "b2 = translate_adjacencies(a2, cor)\n",
    "b3 = translate_adjacencies(a3, cor)\n",
    "b4 = translate_adjacencies(a4, cor)"
   ]
  },
  {
   "cell_type": "markdown",
   "metadata": {},
   "source": [
    "# Create Final Dictionary"
   ]
  },
  {
   "cell_type": "code",
   "execution_count": 14,
   "metadata": {},
   "outputs": [],
   "source": [
    "# create dictionary\n",
    "channel_groups = {\n",
    "    # Shank Index.\n",
    "    0:\n",
    "        {\n",
    "            # List of channels to keep for spike detection\n",
    "            'channels': translate_channels(shank1_channels, cor),\n",
    "            \n",
    "            # Adjacency graph. Dead channels will be automatically disarded\n",
    "            # by considering the corresponding subgraph.\n",
    "            'graph': translate_adjacencies(a1, cor),\n",
    "            \n",
    "            # 2D positions of the channels, only for visualization purposes\n",
    "            # in KlustaViewa. The unit doesn't matter.\n",
    "            'geometry': geometry_shank1,\n",
    "        },\n",
    "    1:\n",
    "        {\n",
    "            # List of channels to keep for spike detection\n",
    "            'channels': translate_channels(shank2_channels, cor),\n",
    "            \n",
    "            # Adjacency graph. Dead channels will be automatically disarded\n",
    "            # by considering the corresponding subgraph.\n",
    "            'graph': translate_adjacencies(a2, cor),\n",
    "            \n",
    "            # 2D positions of the channels, only for visualization purposes\n",
    "            # in KlustaViewa. The unit doesn't matter.\n",
    "            'geometry': geometry_shank2,\n",
    "        },\n",
    "    2:\n",
    "        {\n",
    "            # List of channels to keep for spike detection\n",
    "            'channels': translate_channels(shank3_channels, cor),\n",
    "            \n",
    "            # Adjacency graph. Dead channels will be automatically disarded\n",
    "            # by considering the corresponding subgraph.\n",
    "            'graph': translate_adjacencies(a3, cor),\n",
    "            \n",
    "            # 2D positions of the channels, only for visualization purposes\n",
    "            # in KlustaViewa. The unit doesn't matter.\n",
    "            'geometry': geometry_shank3,\n",
    "        },\n",
    "    3:\n",
    "        {\n",
    "            # List of channels to keep for spike detection\n",
    "            'channels': translate_channels(shank4_channels, cor),\n",
    "            \n",
    "            # Adjacency graph. Dead channels will be automatically disarded\n",
    "            # by considering the corresponding subgraph.\n",
    "            'graph': translate_adjacencies(a4, cor),\n",
    "            \n",
    "            # 2D positions of the channels, only for visualization purposes\n",
    "            # in KlustaViewa. The unit doesn't matter.\n",
    "            'geometry': geometry_shank4,\n",
    "        },\n",
    "}"
   ]
  },
  {
   "cell_type": "code",
   "execution_count": 20,
   "metadata": {},
   "outputs": [
    {
     "name": "stdout",
     "output_type": "stream",
     "text": [
      "{   0: {   'channels': [10, 4, 5, 11, 9, 3, 6, 12],\n",
      "           'geometry': {   3: (-14.5, 100),\n",
      "                           4: (-8.5, 20),\n",
      "                           5: (8.5, 40),\n",
      "                           6: (16.5, 120),\n",
      "                           9: (12.5, 80),\n",
      "                           10: (0, 0),\n",
      "                           11: (-10.5, 60),\n",
      "                           12: (-18.5, 140)},\n",
      "           'graph': [   (10, 5),\n",
      "                        (10, 4),\n",
      "                        (4, 11),\n",
      "                        (4, 5),\n",
      "                        (4, 10),\n",
      "                        (5, 4),\n",
      "                        (5, 10),\n",
      "                        (5, 11),\n",
      "                        (5, 9),\n",
      "                        (11, 3),\n",
      "                        (11, 4),\n",
      "                        (11, 5),\n",
      "                        (11, 9),\n",
      "                        (9, 5),\n",
      "                        (9, 11),\n",
      "                        (9, 3),\n",
      "                        (9, 6),\n",
      "                        (3, 6),\n",
      "                        (3, 12),\n",
      "                        (3, 11),\n",
      "                        (3, 9),\n",
      "                        (6, 3),\n",
      "                        (6, 12),\n",
      "                        (6, 9),\n",
      "                        (12, 3),\n",
      "                        (12, 6)]},\n",
      "    1: {   'channels': [13, 0, 2, 15, 14, 7, 1, 8],\n",
      "           'geometry': {   0: (191.5, 20),\n",
      "                           1: (216.5, 120),\n",
      "                           2: (208.5, 40),\n",
      "                           7: (185.5, 100),\n",
      "                           8: (181.5, 140),\n",
      "                           13: (200, 0),\n",
      "                           14: (212.5, 80),\n",
      "                           15: (189.5, 60)},\n",
      "           'graph': [   (13, 2),\n",
      "                        (13, 0),\n",
      "                        (0, 2),\n",
      "                        (0, 13),\n",
      "                        (0, 15),\n",
      "                        (2, 0),\n",
      "                        (2, 13),\n",
      "                        (2, 15),\n",
      "                        (2, 14),\n",
      "                        (15, 0),\n",
      "                        (15, 2),\n",
      "                        (15, 7),\n",
      "                        (15, 14),\n",
      "                        (14, 2),\n",
      "                        (14, 15),\n",
      "                        (14, 7),\n",
      "                        (14, 1),\n",
      "                        (7, 1),\n",
      "                        (7, 8),\n",
      "                        (7, 15),\n",
      "                        (7, 14),\n",
      "                        (1, 7),\n",
      "                        (1, 8),\n",
      "                        (1, 14),\n",
      "                        (8, 7),\n",
      "                        (8, 1)]},\n",
      "    2: {   'channels': [16, 29, 31, 18, 23, 30, 24, 17],\n",
      "           'geometry': {   16: (400, 0),\n",
      "                           17: (381.5, 140),\n",
      "                           18: (389.5, 60),\n",
      "                           23: (412.5, 80),\n",
      "                           24: (416.5, 120),\n",
      "                           29: (391.5, 20),\n",
      "                           30: (385.5, 100),\n",
      "                           31: (408.5, 40)},\n",
      "           'graph': [   (16, 31),\n",
      "                        (16, 29),\n",
      "                        (29, 31),\n",
      "                        (29, 16),\n",
      "                        (29, 18),\n",
      "                        (31, 29),\n",
      "                        (31, 16),\n",
      "                        (31, 18),\n",
      "                        (31, 23),\n",
      "                        (18, 29),\n",
      "                        (18, 31),\n",
      "                        (18, 30),\n",
      "                        (18, 23),\n",
      "                        (23, 31),\n",
      "                        (23, 18),\n",
      "                        (23, 30),\n",
      "                        (23, 24),\n",
      "                        (30, 24),\n",
      "                        (30, 17),\n",
      "                        (30, 18),\n",
      "                        (30, 23),\n",
      "                        (24, 30),\n",
      "                        (24, 17),\n",
      "                        (24, 23),\n",
      "                        (17, 30),\n",
      "                        (17, 24)]},\n",
      "    3: {   'channels': [20, 26, 27, 21, 19, 25, 28, 22],\n",
      "           'geometry': {   19: (612.5, 80),\n",
      "                           20: (600, 0),\n",
      "                           21: (589.5, 60),\n",
      "                           22: (581.5, 140),\n",
      "                           25: (585.5, 100),\n",
      "                           26: (591.5, 20),\n",
      "                           27: (608.5, 40),\n",
      "                           28: (616.5, 120)},\n",
      "           'graph': [   (20, 27),\n",
      "                        (20, 26),\n",
      "                        (26, 27),\n",
      "                        (26, 20),\n",
      "                        (26, 21),\n",
      "                        (27, 26),\n",
      "                        (27, 20),\n",
      "                        (27, 21),\n",
      "                        (27, 19),\n",
      "                        (21, 26),\n",
      "                        (21, 27),\n",
      "                        (21, 25),\n",
      "                        (21, 19),\n",
      "                        (19, 27),\n",
      "                        (19, 21),\n",
      "                        (19, 25),\n",
      "                        (19, 28),\n",
      "                        (25, 28),\n",
      "                        (25, 22),\n",
      "                        (25, 21),\n",
      "                        (25, 19),\n",
      "                        (28, 25),\n",
      "                        (28, 22),\n",
      "                        (28, 19),\n",
      "                        (22, 25),\n",
      "                        (22, 28)]}}\n"
     ]
    }
   ],
   "source": [
    "import pprint\n",
    "\n",
    "pprint.pprint(channel_groups,indent=4)"
   ]
  }
 ],
 "metadata": {
  "kernelspec": {
   "display_name": "Python 3",
   "language": "python",
   "name": "python3"
  },
  "language_info": {
   "codemirror_mode": {
    "name": "ipython",
    "version": 3
   },
   "file_extension": ".py",
   "mimetype": "text/x-python",
   "name": "python",
   "nbconvert_exporter": "python",
   "pygments_lexer": "ipython3",
   "version": "3.6.0"
  }
 },
 "nbformat": 4,
 "nbformat_minor": 2
}
