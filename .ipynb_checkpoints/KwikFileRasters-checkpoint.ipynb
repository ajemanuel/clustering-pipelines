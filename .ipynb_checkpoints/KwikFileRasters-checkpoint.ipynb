{
 "cells": [
  {
   "cell_type": "code",
   "execution_count": 1,
   "metadata": {
    "collapsed": false
   },
   "outputs": [
    {
     "name": "stdout",
     "output_type": "stream",
     "text": [
      "C:\\Users\\Ginty\\Desktop\\EXTRACELLULAR\\170403\\fwdrev\n"
     ]
    }
   ],
   "source": [
    "cd C:\\Users\\Ginty\\Desktop\\EXTRACELLULAR\\170403\\fwdrev"
   ]
  },
  {
   "cell_type": "code",
   "execution_count": 3,
   "metadata": {
    "collapsed": false
   },
   "outputs": [],
   "source": [
    "%matplotlib inline\n",
    "import matplotlib.pyplot as plt\n",
    "import h5py as h5py\n",
    "import glob as glob\n",
    "import numpy as np\n",
    "import scipy.io"
   ]
  },
  {
   "cell_type": "code",
   "execution_count": 104,
   "metadata": {
    "collapsed": false
   },
   "outputs": [],
   "source": [
    "kwikfile = glob.glob('*.kwik')\n",
    "if h5py.is_hdf5(kwikfile[0]):\n",
    "    k = h5py.File(kwikfile[0],'r')\n",
    "    clusters = k['/channel_groups/0/spikes/clusters/main'][:]\n",
    "    time_samples = k['/channel_groups/0/spikes/time_samples'][:]"
   ]
  },
  {
   "cell_type": "code",
   "execution_count": 105,
   "metadata": {
    "collapsed": false
   },
   "outputs": [
    {
     "data": {
      "image/png": "[encoded data removed]",
      "text/plain": [
       "<matplotlib.figure.Figure at 0xe1c2e48>"
      ]
     },
     "metadata": {},
     "output_type": "display_data"
    }
   ],
   "source": [
    "lsample = 0\n",
    "rsample = len(time_samples)\n",
    "plt.plot(np.linspace(0, len(time_samples[lsample:rsample])/(20000.0 / 60.0), num=len(time_samples[lsample:rsample])), clusters[lsample:rsample], '|')\n",
    "plt.savefig('optical.eps')"
   ]
  },
  {
   "cell_type": "code",
   "execution_count": 36,
   "metadata": {
    "collapsed": false
   },
   "outputs": [],
   "source": []
  },
  {
   "cell_type": "code",
   "execution_count": 97,
   "metadata": {
    "collapsed": false
   },
   "outputs": [
    {
     "name": "stdout",
     "output_type": "stream",
     "text": [
      "C:\\Users\\Ginty\\Desktop\\EXTRACELLULAR\\170324_e3\n"
     ]
    }
   ],
   "source": [
    "cd C:\\Users\\Ginty\\Desktop\\EXTRACELLULAR\\170324_e3"
   ]
  },
  {
   "cell_type": "code",
   "execution_count": 98,
   "metadata": {
    "collapsed": true
   },
   "outputs": [],
   "source": [
    "kwikfile = glob.glob('*.kwik')\n",
    "if h5py.is_hdf5(kwikfile[0]):\n",
    "    k = h5py.File(kwikfile[0],'r')\n",
    "    clusters = k['/channel_groups/0/spikes/clusters/main'][:]\n",
    "    time_samples = k['/channel_groups/0/spikes/time_samples'][:]"
   ]
  },
  {
   "cell_type": "code",
   "execution_count": 99,
   "metadata": {
    "collapsed": false
   },
   "outputs": [
    {
     "data": {
      "text/plain": [
       "[<matplotlib.lines.Line2D at 0xe23a8d0>]"
      ]
     },
     "execution_count": 99,
     "metadata": {},
     "output_type": "execute_result"
    },
    {
     "data": {
      "image/png": "[encoded data removed]",
      "text/plain": [
       "<matplotlib.figure.Figure at 0xe1d62e8>"
      ]
     },
     "metadata": {},
     "output_type": "display_data"
    }
   ],
   "source": [
    "lsample = 0\n",
    "rsample = len(time_samples)\n",
    "plt.plot(np.linspace(0, len(time_samples[lsample:rsample])/(20000.0 / 60.0), num=len(time_samples[lsample:rsample])), clusters[lsample:rsample], '|')\n"
   ]
  },
  {
   "cell_type": "code",
   "execution_count": null,
   "metadata": {
    "collapsed": true
   },
   "outputs": [],
   "source": [
    "mat = scipy.io.loadmat('fwdStim.mat')"
   ]
  }
 ],
 "metadata": {
  "kernelspec": {
   "display_name": "Python 3",
   "language": "python",
   "name": "python3"
  },
  "language_info": {
   "codemirror_mode": {
    "name": "ipython",
    "version": 3
   },
   "file_extension": ".py",
   "mimetype": "text/x-python",
   "name": "python",
   "nbconvert_exporter": "python",
   "pygments_lexer": "ipython3",
   "version": "3.6.0"
  }
 },
 "nbformat": 4,
 "nbformat_minor": 2
}
