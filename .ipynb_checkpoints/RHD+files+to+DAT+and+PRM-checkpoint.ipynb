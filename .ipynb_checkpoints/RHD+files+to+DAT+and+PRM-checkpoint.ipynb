{
 "cells": [
  {
   "cell_type": "code",
   "execution_count": 1,
   "metadata": {},
   "outputs": [
    {
     "name": "stdout",
     "output_type": "stream",
     "text": [
      "C:\\DATA\\20170405 in vivo ephys\\p2_1\n"
     ]
    }
   ],
   "source": [
    "cd \"C:/DATA/20170405 in vivo ephys/p2_1\""
   ]
  },
  {
   "cell_type": "code",
   "execution_count": 2,
   "metadata": {},
   "outputs": [
    {
     "name": "stdout",
     "output_type": "stream",
     "text": [
      " Volume in drive C has no label.\n",
      " Volume Serial Number is A498-0A2C\n",
      "\n",
      " Directory of C:\\DATA\\20170405 in vivo ephys\\p2_1\n",
      "\n",
      "04/06/2017  05:03 PM    <DIR>          .\n",
      "04/06/2017  05:03 PM    <DIR>          ..\n",
      "04/06/2017  05:02 PM             1,788 A1x32-Poly2-5mm-50s-177-A32.prb\n",
      "04/06/2017  05:03 PM        76,815,360 spont_170405_161708.dat\n",
      "04/05/2017  04:18 PM        85,862,018 spont_170405_161708.rhd\n",
      "04/06/2017  05:03 PM         7,201,440 spont_170405_161708.stim\n",
      "04/05/2017  04:19 PM        84,059,378 spont_170405_161808.rhd\n",
      "               5 File(s)    253,939,984 bytes\n",
      "               2 Dir(s)  723,481,272,320 bytes free\n"
     ]
    }
   ],
   "source": [
    "ls"
   ]
  },
  {
   "cell_type": "code",
   "execution_count": 3,
   "metadata": {},
   "outputs": [],
   "source": [
    "import sys\n",
    "sys.path.append('C://Users/Ginty Lab/My Documents/Github/kwik-tools')\n",
    "import read_rhd as rhd\n",
    "import numpy as np\n",
    "import glob, os"
   ]
  },
  {
   "cell_type": "code",
   "execution_count": 4,
   "metadata": {},
   "outputs": [
    {
     "name": "stdout",
     "output_type": "stream",
     "text": [
      "\n",
      "Reading Intan Technologies RHD2000 Data File, Version 1.5\n",
      "\n",
      "Found 32 amplifier channels.\n",
      "Found 3 auxiliary input channels.\n",
      "Found 1 supply voltage channel.\n",
      "Found 1 board ADC channel.\n",
      "Found 0 board digital input channels.\n",
      "Found 0 board digital output channels.\n",
      "Found 0 temperature sensors channels.\n",
      "\n",
      "File contains 60.012 seconds of data.  Amplifiers were sampled at 20.00 kS/s.\n",
      "\n",
      "Allocating memory for data...\n",
      "Reading data from file...\n",
      "10% done...\n",
      "20% done...\n",
      "30% done...\n",
      "40% done...\n",
      "50% done...\n",
      "60% done...\n",
      "70% done...\n",
      "80% done...\n",
      "90% done...\n",
      "Parsing data...\n",
      "No missing timestamps in data.\n",
      "Applying notch filter...\n",
      "10% done...\n",
      "20% done...\n",
      "30% done...\n",
      "40% done...\n",
      "50% done...\n",
      "60% done...\n",
      "70% done...\n",
      "80% done...\n",
      "90% done...\n",
      "Done!  Elapsed time: 4.2 seconds\n",
      "\n",
      "Reading Intan Technologies RHD2000 Data File, Version 1.5\n",
      "\n",
      "Found 32 amplifier channels.\n",
      "Found 3 auxiliary input channels.\n",
      "Found 1 supply voltage channel.\n",
      "Found 1 board ADC channel.\n",
      "Found 0 board digital input channels.\n",
      "Found 0 board digital output channels.\n",
      "Found 0 temperature sensors channels.\n",
      "\n",
      "File contains 58.752 seconds of data.  Amplifiers were sampled at 20.00 kS/s.\n",
      "\n",
      "Allocating memory for data...\n",
      "Reading data from file...\n",
      "10% done...\n",
      "20% done...\n",
      "30% done...\n",
      "40% done...\n",
      "50% done...\n",
      "60% done...\n",
      "70% done...\n",
      "80% done...\n",
      "90% done...\n",
      "Parsing data...\n",
      "No missing timestamps in data.\n",
      "Applying notch filter...\n",
      "10% done...\n",
      "20% done...\n",
      "30% done...\n",
      "40% done...\n",
      "50% done...\n",
      "60% done...\n",
      "70% done...\n",
      "80% done...\n",
      "90% done...\n",
      "Done!  Elapsed time: 4.3 seconds\n"
     ]
    }
   ],
   "source": [
    "\n",
    "basename = 'spont_170405_'\n",
    "\n",
    "#batch write .rhd to .dat\n",
    "for file in glob.glob(basename + '*.rhd'):\n",
    "    d = rhd.read_rhd(file)\n",
    "    recordings = np.transpose(d['amplifier_data'])\n",
    "    stimulation = np.transpose(d['aux_input_data'])\n",
    "    recordings.tofile(os.path.splitext(file)[0] +'.dat')  #strip .rhd file extension and append .dat\n",
    "    stimulation.tofile(os.path.splitext(file)[0] +'.stim')\n",
    "\n",
    "#create .prm file    \n",
    "files = glob.glob(basename + '*.dat')\n",
    "prb_file = 'A1x32-Poly2-5mm-50s-177-A32.prb'\n",
    "\n",
    "\n",
    "with open(basename + '.prm', \"w\") as text_file:\n",
    "        text_file.write('experiment_name = \\'{0}\\' \\n'.format(basename))\n",
    "        text_file.write('prb_file = \\'{0}\\'\\n'.format(prb_file)) \n",
    "        text_file.write('traces = dict( \\n')\n",
    "        text_file.write('\\traw_data_files={0},\\n'.format(files))\n",
    "        text_file.write('\\tvoltage_gain={0}.0,\\n'.format(192))  #from Intan RHD2000 documentation\n",
    "        text_file.write('\\tsample_rate={0},\\n'.format(d['frequency_parameters']['amplifier_sample_rate']))\n",
    "        text_file.write('\\tn_channels={0},\\n'.format(len(d['amplifier_channels'])))\n",
    "        text_file.write('\\tdtype=\\'uint16\\'\\n')\n",
    "        text_file.write('\\t)')\n",
    "\n",
    "    \n",
    "\n"
   ]
  },
  {
   "cell_type": "code",
   "execution_count": null,
   "metadata": {},
   "outputs": [],
   "source": []
  },
  {
   "cell_type": "code",
   "execution_count": null,
   "metadata": {
    "collapsed": true
   },
   "outputs": [],
   "source": []
  }
 ],
 "metadata": {
  "kernelspec": {
   "display_name": "Python 3",
   "language": "python",
   "name": "python3"
  },
  "language_info": {
   "codemirror_mode": {
    "name": "ipython",
    "version": 3
   },
   "file_extension": ".py",
   "mimetype": "text/x-python",
   "name": "python",
   "nbconvert_exporter": "python",
   "pygments_lexer": "ipython3",
   "version": "3.6.0"
  }
 },
 "nbformat": 4,
 "nbformat_minor": 2
}
